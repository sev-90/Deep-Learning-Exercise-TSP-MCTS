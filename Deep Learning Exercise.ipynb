{
 "cells": [
  {
   "cell_type": "code",
   "execution_count": 1,
   "metadata": {
    "pycharm": {
     "is_executing": false
    }
   },
   "outputs": [],
   "source": [
    "from __future__ import division\n",
    "from copy import deepcopy\n",
    "from MCTS import mcts\n",
    "import numpy as np\n",
    "import tsp as exact_solver\n",
    "import matplotlib.pyplot as plt\n",
    "import numpy as np\n",
    "from sys import maxsize\n",
    "import networkx as nx\n",
    "import torch\n",
    "from torch import nn\n",
    "import torch.nn.functional as F\n",
    "from torch_geometric.nn import GCNConv, global_mean_pool\n",
    "import queue"
   ]
  },
  {
   "cell_type": "code",
   "execution_count": 2,
   "metadata": {
    "pycharm": {
     "is_executing": false
    }
   },
   "outputs": [],
   "source": [
    "class Network():\n",
    "\n",
    "    ### Network ###\n",
    "    #\n",
    "    # Create random fully connected newtowk using networkx with pisition information\n",
    "    #\n",
    "    # Input\n",
    "    # num_of_node: number of nodes in the network\n",
    "    # side_length: length of the 2-d square to place nodes on\n",
    "\n",
    "    def __init__(self, num_of_node, side_length,seed):\n",
    "        self.num_of_node = num_of_node\n",
    "        self.side_length = side_length\n",
    "        self.initialize_graph(seed)\n",
    "        self.pos=None\n",
    "\n",
    "    def get_pos(self):\n",
    "        return self.pos\n",
    "\n",
    "    def initialize_graph(self,seed):\n",
    "\n",
    "        # generate random node position\n",
    "\n",
    "        np.random.seed(seed)\n",
    "        nodes = np.random.randint(self.side_length, size=self.num_of_node * 2)\n",
    "        nodes = nodes.reshape(self.num_of_node, 2)\n",
    "        self.positions = {key: tuple(node) for key, node in enumerate(nodes)}\n",
    "        self.pos=nodes\n",
    "\n",
    "        # setup the graph\n",
    "        self.graph = nx.Graph()\n",
    "        self.graph.add_nodes_from([i for i in range(self.num_of_node)])\n",
    "\n",
    "        # setup edge and edge weight\n",
    "        weighted_edges_all = []\n",
    "        for i in range(self.num_of_node - 1):\n",
    "            d = abs(nodes[i] - nodes[i + 1:, :])\n",
    "            weight = (d[:, 0] ** 2 + d[:, 1]**2) ** 0.5\n",
    "            weighted_edges = [(i, i + j, weight[j - 1]) for j in range(1, self.num_of_node - i)]\n",
    "            weighted_edges_temp = np.array([[i, i + j, weight[j - 1]] for j in range(1, self.num_of_node - i)]).reshape(\n",
    "                -1, 3)\n",
    "            self.graph.add_weighted_edges_from(weighted_edges)\n",
    "            weighted_edges_all.append(weighted_edges_temp)\n",
    "        #         print(nodes)\n",
    "        #         print(weight)\n",
    "        #         print(weighted_edges_all)\n",
    "        #         print(weighted_edges_all)\n",
    "        weight_matrix = np.array(np.zeros(self.num_of_node * self.num_of_node)).reshape(self.num_of_node,\n",
    "                                                                                        self.num_of_node)\n",
    "\n",
    "        #         print(len(weighted_edges_all))\n",
    "        for chunk in weighted_edges_all:\n",
    "            #             print(chunk)\n",
    "\n",
    "            indx = tuple([chunk[:, 0].astype(int), chunk[:, 1].astype(int)])\n",
    "            weight_matrix[indx] = chunk[:, 2]\n",
    "        weight_matrix = weight_matrix + weight_matrix.T\n",
    "        #         print(weight_matrix)\n",
    "        return (weight_matrix)"
   ]
  },
  {
   "cell_type": "code",
   "execution_count": 3,
   "metadata": {
    "pycharm": {
     "is_executing": false
    }
   },
   "outputs": [],
   "source": [
    "class TSPgame():\n",
    "    def __init__(self, num_nodes,graph,network):\n",
    "        self.num_nodes = num_nodes\n",
    "        self.board = np.zeros((num_nodes, num_nodes))\n",
    "        self.prev_node = 0\n",
    "        self.currentPlayer = 1\n",
    "        self.first_node=0\n",
    "        self.network=network\n",
    "        self.graph=graph\n",
    "\n",
    "        self.edge_dict = {}\n",
    "        for i in range(0,num_nodes):\n",
    "            for j in range(0,num_nodes):\n",
    "                if i==j:\n",
    "                    self.edge_dict[(i, j)] = -float('inf')\n",
    "                else:\n",
    "                    self.edge_dict[(i,j)]=-graph[i][j]\n",
    "\n",
    "\n",
    "    def getPossibleActions(self):\n",
    "\n",
    "        possibleActions = []\n",
    "        count=0\n",
    "        for i in range(0, self.num_nodes):\n",
    "            if 1 in self.board[:, i]:\n",
    "                count=count+1\n",
    "\n",
    "        for i in range(0, self.num_nodes):\n",
    "            if count<self.num_nodes-1:\n",
    "                if i==self.first_node:\n",
    "                    continue\n",
    "            if 1 not in self.board[:, i] and i != self.prev_node :\n",
    "                possibleActions.append(Action(player=self.currentPlayer, x=self.prev_node, y=i))\n",
    "        return possibleActions\n",
    "\n",
    "    def takeAction(self, action):\n",
    "        newState = deepcopy(self)\n",
    "        newState.board[action.x][action.y] = action.player\n",
    "        newState.prev_node = action.y\n",
    "        newState.currentPlayer = self.currentPlayer\n",
    "        return newState\n",
    "\n",
    "    def isTerminal(self):\n",
    "        for i in range(0, self.num_nodes):\n",
    "            if 1 not in self.board[:, i]:\n",
    "                return False\n",
    "        return True\n",
    "\n",
    "    def getReward(self):\n",
    "        score = 0\n",
    "        for i in range(0, self.num_nodes):\n",
    "            v = i\n",
    "            u = self.board[:, i].argmax()\n",
    "            score = score - self.graph[u][v]\n",
    "        return score\n",
    "\n",
    "class Action():\n",
    "    def __init__(self, player, x, y):\n",
    "        self.player = player\n",
    "        self.x = x\n",
    "        self.y = y\n",
    "\n",
    "    def get_tuple(self):\n",
    "        return (self.x,self.y)\n",
    "\n",
    "    def __str__(self):\n",
    "        return str((self.x, self.y))\n",
    "\n",
    "    def __repr__(self):\n",
    "        return str(self)\n",
    "\n",
    "    def __eq__(self, other):\n",
    "        return self.__class__ == other.__class__ and self.x == other.x and self.y == other.y and self.player == other.player\n",
    "\n",
    "    def __hash__(self):\n",
    "        return hash((self.x, self.y, self.player))"
   ]
  },
  {
   "cell_type": "markdown",
   "metadata": {},
   "source": [
    "# Part1"
   ]
  },
  {
   "cell_type": "code",
   "execution_count": null,
   "metadata": {
    "pycharm": {
     "is_executing": false
    }
   },
   "outputs": [],
   "source": [
    "n_size=10\n",
    "side_length=10\n",
    "seeds=list(range(1,21))\n",
    "solved_total = []\n",
    "for s in range(100,1001,100):\n",
    "    solved = 0\n",
    "    for seed in seeds:\n",
    "        network = Network(n_size, side_length,seed)\n",
    "        graph = network.initialize_graph(seed)\n",
    "        TSP_soln = exact_solver.tsp(network.pos)[0]\n",
    "\n",
    "        initialState = TSPgame(10, graph,network)\n",
    "        edge_dict = initialState.edge_dict\n",
    "\n",
    "        mcts_instance = mcts(iterationLimit=s)\n",
    "        actions=[]\n",
    "        tour = [0]\n",
    "        for i in range (0,10):\n",
    "            if i==0:\n",
    "                cur_state=initialState\n",
    "                best_child=None\n",
    "            else:\n",
    "                cur_state=next_state\n",
    "            best_child,action = mcts_instance.search(initialState=cur_state,taken_tour=tour,parent=best_child)\n",
    "            next_state = cur_state.takeAction(action)\n",
    "            actions.append(action)\n",
    "            tour.append(action.y)\n",
    "\n",
    "\n",
    "        cost = 0\n",
    "        for a in actions:\n",
    "            cost = cost + edge_dict[(a.x, a.y)]\n",
    "        cost = -cost\n",
    "\n",
    "        if cost <= TSP_soln * 1.1:\n",
    "            solved = solved + 1\n",
    "    solved_total.append(solved)\n",
    "\n",
    "    #print('Num of sample:', s, ' solved rate: ', solved / len(seeds))"
   ]
  },
  {
   "cell_type": "code",
   "execution_count": 20,
   "metadata": {},
   "outputs": [
    {
     "data": {
      "text/plain": [
       "Text(0, 0.5, 'Percentage of instances solved')"
      ]
     },
     "execution_count": 20,
     "metadata": {},
     "output_type": "execute_result"
    },
    {
     "data": {
      "image/png": "[encoded data removed]",
      "text/plain": [
       "<Figure size 432x288 with 1 Axes>"
      ]
     },
     "metadata": {
      "needs_background": "light"
     },
     "output_type": "display_data"
    }
   ],
   "source": [
    "fig=plt.plot(list(range(100,1001,100)),np.array(solved_total)/20)\n",
    "plt.xlabel('Number of samples')\n",
    "plt.ylabel('Percentage of instances solved')"
   ]
  },
  {
   "cell_type": "markdown",
   "metadata": {},
   "source": [
    "# Part 2"
   ]
  },
  {
   "cell_type": "code",
   "execution_count": 4,
   "metadata": {
    "pycharm": {
     "is_executing": false
    }
   },
   "outputs": [],
   "source": [
    "class PolicyNetwork(nn.Module):\n",
    "    def __init__(self, d=2):\n",
    "        super(PolicyNetwork, self).__init__()\n",
    "        self.conv1 = GCNConv(d, 16)\n",
    "        self.conv2 = GCNConv(16, 32)\n",
    "        self.conv3 = GCNConv(32, 16)\n",
    "        self.conv4 = GCNConv(16, 1)\n",
    "        self.fc = nn.Linear(16, 1)\n",
    "\n",
    "    def forward(self, graph):\n",
    "        x, edges, choices = graph.pos, graph.edge_index, graph.y\n",
    "\n",
    "        x = self.conv1(x, edges)\n",
    "        x = F.relu(x)\n",
    "        x = self.conv2(x, edges)\n",
    "        x = F.relu(x)\n",
    "        x = self.conv3(x, edges)\n",
    "        x = F.relu(x)\n",
    "\n",
    "        c = self.conv4(x, edges)\n",
    "        choice = torch.masked_select(c.squeeze(), choices)\n",
    "        choice = F.softmax(choice, dim=0)\n",
    "\n",
    "        v = global_mean_pool(x, torch.zeros(graph.num_nodes, dtype=torch.long))\n",
    "        value = self.fc(v)\n",
    "\n",
    "        return choice, value"
   ]
  },
  {
   "cell_type": "code",
   "execution_count": 5,
   "metadata": {
    "pycharm": {
     "is_executing": false
    }
   },
   "outputs": [],
   "source": [
    "class MCTSExampleGenerator():\n",
    "\n",
    "    def __init__(self, initialstate, example_queue, iterations=1000):\n",
    "        self.mcst_instance=mcts(iterationLimit=iterations)\n",
    "        self.initialstate=initialstate\n",
    "        self.example_queue = example_queue\n",
    "        self.iterations = iterations\n",
    "\n",
    "    def solve(self):\n",
    "        mcts_instance = self.mcst_instance\n",
    "        tour=[0]\n",
    "        for i in range(0, 10):\n",
    "            if i == 0:\n",
    "                cur_state = self.initialstate\n",
    "                parent=None\n",
    "            else:\n",
    "                cur_state = next_state\n",
    "                parent=node\n",
    "            node,action = mcts_instance.search(cur_state,tour,parent)\n",
    "            next_state = cur_state.takeAction(action)\n",
    "            tour.append(action.y)\n",
    "            self.generate_example(node.parent)\n",
    "\n",
    "    def generate_example(self, node):\n",
    "\n",
    "        # construct graph\n",
    "        graph = node.construct_graph()\n",
    "\n",
    "        # construct labels\n",
    "\n",
    "        choice_probs = [(val.tour[-1], val.numVisits) for key, val in node.children.items()]\n",
    "        choice_probs = sorted(choice_probs, key=lambda c: c[0])\n",
    "        choice_probs = [c[1] for c in choice_probs]\n",
    "        choice_probs = torch.tensor(choice_probs).to(dtype=torch.float)\n",
    "        choice_probs = choice_probs / choice_probs.sum()\n",
    "\n",
    "        choice = torch.argmax(choice_probs)\n",
    "\n",
    "        pred_value = torch.tensor(node.totalReward/node.numVisits)\n",
    "\n",
    "        # add to training queue\n",
    "        example = {\n",
    "            \"graph\": graph,\n",
    "            \"choice_probs\": choice_probs,\n",
    "            \"choice\": choice,\n",
    "            \"pred_value\": pred_value,\n",
    "        }\n",
    "        self.example_queue.put(example)"
   ]
  },
  {
   "cell_type": "code",
   "execution_count": 6,
   "metadata": {
    "pycharm": {
     "is_executing": false
    }
   },
   "outputs": [],
   "source": [
    "class PolicyNetworkTrainer:\n",
    "\n",
    "    def __init__(self, model, example_queue):\n",
    "        self.model = model\n",
    "        self.example_queue = example_queue\n",
    "        self.losses = []\n",
    "\n",
    "    def train_all(self):\n",
    "        self.model.train()\n",
    "        while not self.example_queue.empty():\n",
    "            example = self.example_queue.get()\n",
    "            graph, choice_probs, value = example[\"graph\"], example[\"choice_probs\"], example[\"pred_value\"]\n",
    "\n",
    "            pred_choices, pred_value = self.model(graph)\n",
    "            try:\n",
    "                loss = loss_fn(pred_choices, choice_probs) + (0* loss_fn(pred_value, value))\n",
    "            except:\n",
    "                print('shape of predicted tensor and label ')\n",
    "\n",
    "            self.losses.append(loss.item())\n",
    "\n",
    "            optimizer.zero_grad()\n",
    "            loss.backward()\n",
    "            optimizer.step()"
   ]
  },
  {
   "cell_type": "code",
   "execution_count": null,
   "metadata": {
    "pycharm": {
     "is_executing": false
    }
   },
   "outputs": [],
   "source": [
    "policy_network = PolicyNetwork()\n",
    "\n",
    "optimizer = torch.optim.Adam(params=policy_network.parameters(), lr=3e-4)\n",
    "loss_fn = nn.MSELoss()\n",
    "train_queue = queue.Queue()\n",
    "\n",
    "seeds=list(range(0,150))\n",
    "for seed in seeds:\n",
    "    network = Network(10, 6, seed)\n",
    "    graph = network.initialize_graph(seed)\n",
    "    # print('OPtimal solution is ', TSP_soln)\n",
    "    initialState = TSPgame(10, graph, network)\n",
    "    MCTSExampleGenerator(initialState, train_queue,iterations=1000).solve()\n",
    "\n",
    "trainer = PolicyNetworkTrainer(policy_network, train_queue)\n",
    "\n",
    "trainer.train_all()\n",
    "policy_network = trainer.model\n",
    "#torch.save(policy_network.state_dict(), \"policy_network_no_val.pth\")"
   ]
  },
  {
   "cell_type": "markdown",
   "metadata": {},
   "source": [
    "# Part 3"
   ]
  },
  {
   "cell_type": "code",
   "execution_count": null,
   "metadata": {
    "pycharm": {
     "is_executing": false
    }
   },
   "outputs": [],
   "source": [
    "policy_network = PolicyNetwork()\n",
    "policy_network.load_state_dict(torch.load(\"C:/Users/anvyl/Desktop/MCTS-master/policy_network_no_val.pth\"))\n",
    "n_size=20\n",
    "side_length=6 \n",
    "seeds=list(range(200,220))\n",
    "solved_total = []\n",
    "\n",
    "for s in range(100,1001,100):\n",
    "\n",
    "    solved = 0\n",
    "    for seed in seeds:\n",
    "        network = Network(n_size, side_length, seed)\n",
    "        graph = network.initialize_graph(seed)\n",
    "        TSP_soln = exact_solver.tsp(network.pos)[0]\n",
    "\n",
    "        initialState = TSPgame(20, graph, network)\n",
    "        edge_dict = initialState.edge_dict\n",
    "\n",
    "        mcts_instance = mcts(iterationLimit=s)\n",
    "        actions = []\n",
    "        tour=[0]\n",
    "        for i in range(0, n_size):\n",
    "            if i == 0:\n",
    "                cur_state = initialState\n",
    "                best_child=None\n",
    "            else:\n",
    "                cur_state = next_state\n",
    "                best_child=child\n",
    "            child, action = mcts_instance.search_policy(initialState=cur_state,model=policy_network,taken_tour=tour,parent=best_child)\n",
    "            next_state = cur_state.takeAction(action)\n",
    "            actions.append(action)\n",
    "            tour.append(action.y)\n",
    "\n",
    "        cost = 0\n",
    "        for a in actions:\n",
    "            cost = cost + edge_dict[(a.x, a.y)]\n",
    "        cost = -cost\n",
    "\n",
    "        if cost <= TSP_soln * 1.1:\n",
    "            solved = solved + 1\n",
    "\n",
    "    solved_total.append(solved)\n",
    "\n",
    "    #print('Num of sample:', s, ' solved rate: ', solved / len(seeds))"
   ]
  },
  {
   "cell_type": "code",
   "execution_count": 9,
   "metadata": {},
   "outputs": [
    {
     "data": {
      "text/plain": [
       "Text(0, 0.5, 'Percentage of instances solved')"
      ]
     },
     "execution_count": 9,
     "metadata": {},
     "output_type": "execute_result"
    },
    {
     "data": {
      "image/png": "[encoded data removed]",
      "text/plain": [
       "<Figure size 432x288 with 1 Axes>"
      ]
     },
     "metadata": {
      "needs_background": "light"
     },
     "output_type": "display_data"
    }
   ],
   "source": [
    "fig=plt.plot(list(range(100,1000,100)),np.array(solved_total)/20)\n",
    "plt.xlabel('Number of samples')\n",
    "plt.ylabel('Percentage of instances solved')"
   ]
  },
  {
   "cell_type": "code",
   "execution_count": null,
   "metadata": {},
   "outputs": [],
   "source": []
  }
 ],
 "metadata": {
  "kernelspec": {
   "display_name": "PyCharm (MCTS-master)",
   "language": "python",
   "name": "pycharm-3f79d410"
  },
  "language_info": {
   "codemirror_mode": {
    "name": "ipython",
    "version": 3
   },
   "file_extension": ".py",
   "mimetype": "text/x-python",
   "name": "python",
   "nbconvert_exporter": "python",
   "pygments_lexer": "ipython3",
   "version": "3.7.5"
  },
  "pycharm": {
   "stem_cell": {
    "cell_type": "raw",
    "metadata": {
     "collapsed": false
    },
    "source": []
   }
  }
 },
 "nbformat": 4,
 "nbformat_minor": 2
}
